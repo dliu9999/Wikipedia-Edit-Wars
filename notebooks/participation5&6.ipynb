{
 "cells": [
  {
   "cell_type": "code",
   "execution_count": 1,
   "metadata": {},
   "outputs": [],
   "source": [
    "import pandas as pd\n",
    "import numpy as np\n",
    "import sys\n",
    "import time\n",
    "import os\n",
    "import sqlite3\n",
    "\n",
    "sys.path.insert(0, '../src/data')\n",
    "\n",
    "from make_dataset import *\n",
    "\n",
    "%load_ext autoreload\n",
    "%autoreload 2"
   ]
  },
  {
   "cell_type": "code",
   "execution_count": 25,
   "metadata": {},
   "outputs": [],
   "source": [
    "def m(article, timeseries=False):\n",
    "    revert = 0\n",
    "    revert_pairs = []\n",
    "\n",
    "    #the list of mutual reverting pairs\n",
    "    mutual_revert_pairs = []\n",
    "    #the list of unique users among reverting pairs\n",
    "    mutual_revert_users = []\n",
    "\n",
    "    #a dictionary of user as key, and his number of edits as the value\n",
    "    user_edits = {}\n",
    "\n",
    "    #a dictionary with the line number (actual version number) as key, and the line label as value(i.e. line label is either the same as version number if not revert version, or equal to an older version number if it's a revert version)\n",
    "    lineLabels = []\n",
    "    #a dictionary with the line number (actual version number) as key, and the author of that line as value\n",
    "    lineAuthors = []\n",
    "    \n",
    "    # if scores\n",
    "    scores_lst = []\n",
    "    counter = 0\n",
    "\n",
    "    ### Helper Function ###\n",
    "    def getLine(label, lineLabels):\n",
    "        for line, ll in reversed(list(enumerate(lineLabels))):\n",
    "            if lineLabels[line] == label:\n",
    "                return line\n",
    "    \n",
    "    ### Read File ###\n",
    "    for ln in article:\n",
    "        parts = ln\n",
    "        if len(parts) < 4:\n",
    "            continue\n",
    "\n",
    "        if parts[3] not in user_edits:\n",
    "            user_edits[parts[3]] = 1\n",
    "        else:\n",
    "            user_edits[parts[3]] = user_edits[parts[3]] + 1\n",
    "        if parts[1] == '1':\n",
    "            revert += 1\n",
    "            #the found line is the version i-1 equal to this version j, and the revert is assumed to be between the author of i, and j\n",
    "            line = getLine(int(parts[2]), lineLabels)\n",
    "            #ignore cases when i-1, and i are equal (consecutive versions)\n",
    "            if line >= len(lineLabels)-1:\n",
    "                continue\n",
    "            revertedU = lineAuthors[line + 1]\n",
    "            revertingU = parts[3]\n",
    "            if revertedU == revertingU:\n",
    "                continue\n",
    "            pair = revertedU + \"~!~\" + revertingU\n",
    "            if pair not in revert_pairs:\n",
    "                revert_pairs.append(pair)\n",
    "        lineLabels.append(int(parts[2]))\n",
    "        lineAuthors.append(parts[3])\n",
    "        ### if we want the timeseries scores PUT INTO A FUNCTION ###\n",
    "        if timeseries:\n",
    "            if counter % 10 == 0:\n",
    "                for pair in revert_pairs:\n",
    "                    parts = pair.split(\"~!~\")\n",
    "                    if parts[1] + \"~!~\" + parts[0] in revert_pairs:\n",
    "                        sorted_pair = \"\"\n",
    "                        if parts[0] < parts[1]:\n",
    "                            sorted_pair = parts[0] + \"~!~\" + parts[1]\n",
    "                        else:\n",
    "                            sorted_pair = parts[1] + \"~!~\" + parts[0]\n",
    "                            mutual_revert_pairs.append(sorted_pair)\n",
    "                        if parts[1] not in mutual_revert_users:\n",
    "                            mutual_revert_users.append(parts[1])\n",
    "                        if parts[0] not in mutual_revert_users:\n",
    "                            mutual_revert_users.append(parts[0])\n",
    "\n",
    "                score = 0\n",
    "                pairs = []\n",
    "                for pair in list(set(mutual_revert_pairs)):\n",
    "                    parts = pair.split(\"~!~\")\n",
    "                    u1 = parts[0]\n",
    "                    u2 = parts[1]\n",
    "                    if user_edits[u1]<user_edits[u2]:\n",
    "                        edit_min = user_edits[u1]\n",
    "                    else:\n",
    "                        edit_min = user_edits[u2]\n",
    "                    pairs.append(pair + \":\" + str(edit_min))\n",
    "                    score += edit_min\n",
    "                score *= len(mutual_revert_users)  \n",
    "                scores_lst.append((counter, score))\n",
    "                mutual_revert_pairs = []\n",
    "                mutual_revert_users = []\n",
    "        counter += 1\n",
    "\n",
    "    ### Get Mutual ###\n",
    "    for pair in revert_pairs:\n",
    "        parts = pair.split(\"~!~\")\n",
    "        if parts[1] + \"~!~\" + parts[0] in revert_pairs:\n",
    "            sorted_pair = \"\"\n",
    "            if parts[0] < parts[1]:\n",
    "                sorted_pair = parts[0] + \"~!~\" + parts[1]\n",
    "            else:\n",
    "                sorted_pair = parts[1] + \"~!~\" + parts[0]\n",
    "                mutual_revert_pairs.append(sorted_pair)\n",
    "            if parts[1] not in mutual_revert_users:\n",
    "                mutual_revert_users.append(parts[1])\n",
    "            if parts[0] not in mutual_revert_users:\n",
    "                mutual_revert_users.append(parts[0])\n",
    "        \n",
    "        \n",
    "    #calculating the score\n",
    "    score = 0\n",
    "    pairs = []\n",
    "    for pair in list(set(mutual_revert_pairs)):\n",
    "        parts = pair.split(\"~!~\")\n",
    "        u1 = parts[0]\n",
    "        u2 = parts[1]\n",
    "        if user_edits[u1]<user_edits[u2]:\n",
    "            edit_min = user_edits[u1]\n",
    "        else:\n",
    "            edit_min = user_edits[u2]\n",
    "        pairs.append(pair + \":\" + str(edit_min))\n",
    "        score += edit_min\n",
    "\n",
    "    score *= len(mutual_revert_users)    \n",
    "    \n",
    "    ### if timeseries ###\n",
    "    if timeseries:\n",
    "        return pairs, scores_lst\n",
    "    \n",
    "    return score"
   ]
  },
  {
   "cell_type": "markdown",
   "metadata": {},
   "source": [
    "### Create Articles List"
   ]
  },
  {
   "cell_type": "code",
   "execution_count": 15,
   "metadata": {},
   "outputs": [],
   "source": [
    "### CHANGE TO ONE ARTICLE A TIME\n",
    "\n",
    "def lightdump_m_all_articles(infp, outfp, chunksize=30000000):\n",
    "    with open(infp) as fh:\n",
    "        articles = []\n",
    "        current_article = []\n",
    "        first = True\n",
    "        num_lines = 0\n",
    "        for line in fh:\n",
    "            if num_lines > chunksize:\n",
    "                with open(outfp, 'a') as fh:\n",
    "                    for name, values in articles:\n",
    "                        pairs, score = m(values)\n",
    "                        fh.write(name.strip() + '**,**' + str(score) + '\\n')\n",
    "                articles = []\n",
    "                num_lines = 0\n",
    "            if line[0] != '^':\n",
    "                if first:\n",
    "                    first = False\n",
    "                else:\n",
    "                    articles.append((article_name, current_article[::-1]))\n",
    "                article_name = line.strip()\n",
    "                current_article = []\n",
    "            else:\n",
    "                current_article.append(line.strip().split(' '))\n",
    "            num_lines += 1\n",
    "        with open(outfp, 'a') as fh:\n",
    "                    for name, values in articles:\n",
    "                        pairs, score = m(values)\n",
    "                        fh.write(name.strip() + '**,**' + str(score) + '\\n')"
   ]
  },
  {
   "cell_type": "code",
   "execution_count": 13,
   "metadata": {},
   "outputs": [],
   "source": [
    "en_fp = '../data/raw/lightdump/en_wiki.txt'\n",
    "simple_fp = '../data/raw/lightdump/simple_wiki.txt'"
   ]
  },
  {
   "cell_type": "markdown",
   "metadata": {},
   "source": [
    "#### Simple Wiki"
   ]
  },
  {
   "cell_type": "code",
   "execution_count": 24,
   "metadata": {},
   "outputs": [
    {
     "name": "stdout",
     "output_type": "stream",
     "text": [
      "1.4308757781982422\n"
     ]
    }
   ],
   "source": [
    "start_time = time.time()\n",
    "simple_articles = lightdump_all_articles(simple_fp)\n",
    "print(time.time() - start_time)"
   ]
  },
  {
   "cell_type": "code",
   "execution_count": 25,
   "metadata": {},
   "outputs": [],
   "source": [
    "# Write to file\n",
    "with open('../data/ms/simple_ms.txt', 'w') as fh:\n",
    "    for name, values in simple_articles:\n",
    "        pairs, score = m(values)\n",
    "        fh.write(name.strip() + '**,**' + str(score) + '\\n')"
   ]
  },
  {
   "cell_type": "markdown",
   "metadata": {},
   "source": [
    "#### En Wiki"
   ]
  },
  {
   "cell_type": "code",
   "execution_count": 8,
   "metadata": {},
   "outputs": [
    {
     "name": "stdout",
     "output_type": "stream",
     "text": [
      "451.25451374053955\n"
     ]
    }
   ],
   "source": [
    "# start_time = time.time()\n",
    "\n",
    "# # extract ld\n",
    "# en_articles = lightdump_all_articles(en_fp, start_article='Single-stage-to-orbit', chunksize=30000000)\n",
    "\n",
    "# start_time = time.time()\n",
    "# # Write to file\n",
    "# with open('../data/ms/en_ms_22.txt', 'w') as fh:\n",
    "#     for name, values in en_articles:\n",
    "#         pairs, score = m(values)\n",
    "#         fh.write(name.strip() + '**,**' + str(score) + '\\n')\n",
    "        \n",
    "# print(time.time() - start_time)"
   ]
  },
  {
   "cell_type": "code",
   "execution_count": 16,
   "metadata": {},
   "outputs": [],
   "source": [
    "# # concat\n",
    "# filenames = os.listdir('../data/ms')\n",
    "# with open('../data/ms/en_ms.txt', 'w') as outfile:\n",
    "#     for fname in filenames:\n",
    "#         with open('../data/ms/' + fname) as infile:\n",
    "#             outfile.write(infile.read())"
   ]
  },
  {
   "cell_type": "code",
   "execution_count": 16,
   "metadata": {},
   "outputs": [
    {
     "ename": "TypeError",
     "evalue": "'float' object is not callable",
     "output_type": "error",
     "traceback": [
      "\u001b[0;31m\u001b[0m",
      "\u001b[0;31mTypeError\u001b[0mTraceback (most recent call last)",
      "\u001b[0;32m<ipython-input-16-918c7feaddb1>\u001b[0m in \u001b[0;36m<module>\u001b[0;34m\u001b[0m\n\u001b[1;32m      1\u001b[0m \u001b[0mstart_time\u001b[0m \u001b[0;34m=\u001b[0m \u001b[0mtime\u001b[0m\u001b[0;34m.\u001b[0m\u001b[0mtime\u001b[0m\u001b[0;34m(\u001b[0m\u001b[0;34m)\u001b[0m\u001b[0;34m\u001b[0m\u001b[0;34m\u001b[0m\u001b[0m\n\u001b[1;32m      2\u001b[0m \u001b[0mlightdump_m_all_articles\u001b[0m\u001b[0;34m(\u001b[0m\u001b[0men_fp\u001b[0m\u001b[0;34m,\u001b[0m \u001b[0;34m'../data/ms/en_ms_test.txt'\u001b[0m\u001b[0;34m)\u001b[0m\u001b[0;34m\u001b[0m\u001b[0;34m\u001b[0m\u001b[0m\n\u001b[0;32m----> 3\u001b[0;31m \u001b[0mprint\u001b[0m\u001b[0;34m(\u001b[0m\u001b[0mtime\u001b[0m\u001b[0;34m.\u001b[0m\u001b[0mtime\u001b[0m\u001b[0;34m(\u001b[0m\u001b[0;34m)\u001b[0m \u001b[0;34m-\u001b[0m \u001b[0mstart_time\u001b[0m\u001b[0;34m(\u001b[0m\u001b[0;34m)\u001b[0m\u001b[0;34m)\u001b[0m\u001b[0;34m\u001b[0m\u001b[0;34m\u001b[0m\u001b[0m\n\u001b[0m",
      "\u001b[0;31mTypeError\u001b[0m: 'float' object is not callable"
     ]
    }
   ],
   "source": [
    "# start_time = time.time()\n",
    "# lightdump_m_all_articles(en_fp, '../data/ms/en_ms_test.txt')\n",
    "# print(time.time() - start_time)"
   ]
  },
  {
   "cell_type": "markdown",
   "metadata": {},
   "source": [
    "### EDA"
   ]
  },
  {
   "cell_type": "markdown",
   "metadata": {},
   "source": [
    "#### Simple Wiki"
   ]
  },
  {
   "cell_type": "code",
   "execution_count": 41,
   "metadata": {},
   "outputs": [],
   "source": [
    "# Open from file\n",
    "with open('../data/ms/simple_ms.txt') as fh:\n",
    "    simple_ms = []\n",
    "    for line in fh:\n",
    "        line = line.strip().split('**,**')\n",
    "        if len(line) == 1:\n",
    "            simple_ms.append(['', int(line[0])])\n",
    "        else:\n",
    "            try:\n",
    "                simple_ms.append((line[0], int(line[1])))\n",
    "            except:\n",
    "                print(line)\n",
    "                break"
   ]
  },
  {
   "cell_type": "code",
   "execution_count": 43,
   "metadata": {},
   "outputs": [],
   "source": [
    "idx_n, values_n = zip(*simple_ms)\n",
    "simple_ms_ser = pd.Series(values_n, idx_n)"
   ]
  },
  {
   "cell_type": "code",
   "execution_count": 49,
   "metadata": {},
   "outputs": [
    {
     "name": "stdout",
     "output_type": "stream",
     "text": [
      "0.0\n",
      "0.0\n",
      "0.0\n",
      "4.0\n"
     ]
    }
   ],
   "source": [
    "print(np.percentile(simple_ms_ser, 5))\n",
    "print(np.percentile(simple_ms_ser, 90))\n",
    "print(np.percentile(simple_ms_ser, 95))\n",
    "print(np.percentile(simple_ms_ser, 99))"
   ]
  },
  {
   "cell_type": "markdown",
   "metadata": {},
   "source": [
    "#### En Wiki"
   ]
  },
  {
   "cell_type": "code",
   "execution_count": 2,
   "metadata": {},
   "outputs": [],
   "source": [
    "# Open from file\n",
    "with open('../data/ms/en_ms.txt') as fh:\n",
    "    new_ms = []\n",
    "    for line in fh:\n",
    "        line = line.strip().split('**,**')\n",
    "        if len(line) == 1:\n",
    "            new_ms.append(['', int(line[0])])\n",
    "        else:\n",
    "            try:\n",
    "                new_ms.append((line[0], int(line[1])))\n",
    "            except:\n",
    "                print(line)\n",
    "                break"
   ]
  },
  {
   "cell_type": "code",
   "execution_count": 3,
   "metadata": {},
   "outputs": [
    {
     "data": {
      "text/plain": [
       "4644557"
      ]
     },
     "execution_count": 3,
     "metadata": {},
     "output_type": "execute_result"
    }
   ],
   "source": [
    "len(new_ms)"
   ]
  },
  {
   "cell_type": "code",
   "execution_count": 4,
   "metadata": {},
   "outputs": [
    {
     "data": {
      "text/plain": [
       "('Blackboard', 0)"
      ]
     },
     "execution_count": 4,
     "metadata": {},
     "output_type": "execute_result"
    }
   ],
   "source": [
    "new_ms[0]"
   ]
  },
  {
   "cell_type": "code",
   "execution_count": 5,
   "metadata": {},
   "outputs": [],
   "source": [
    "idx_n, values_n = zip(*new_ms)\n",
    "ms_ser = pd.Series(values_n, idx_n)"
   ]
  },
  {
   "cell_type": "code",
   "execution_count": 6,
   "metadata": {},
   "outputs": [],
   "source": [
    "sorted_ms_ser = ms_ser.sort_values(ascending=False)"
   ]
  },
  {
   "cell_type": "markdown",
   "metadata": {},
   "source": [
    "### Bill Gates Exploration"
   ]
  },
  {
   "cell_type": "code",
   "execution_count": 87,
   "metadata": {},
   "outputs": [],
   "source": [
    "gates = lightdump_one_article('../data/raw/lightdump/en_wiki.txt', 'Bill_Gates')"
   ]
  },
  {
   "cell_type": "code",
   "execution_count": 88,
   "metadata": {},
   "outputs": [
    {
     "data": {
      "text/plain": [
       "10958"
      ]
     },
     "execution_count": 88,
     "metadata": {},
     "output_type": "execute_result"
    }
   ],
   "source": [
    "len(gates)"
   ]
  },
  {
   "cell_type": "code",
   "execution_count": 109,
   "metadata": {},
   "outputs": [],
   "source": [
    "gates_scores = m(gates, timeseries=True)"
   ]
  },
  {
   "cell_type": "code",
   "execution_count": 110,
   "metadata": {},
   "outputs": [],
   "source": [
    "idx_n, values_n = zip(*gates_scores[1])\n",
    "gates_scores_ser = pd.Series(values_n, idx_n)"
   ]
  },
  {
   "cell_type": "code",
   "execution_count": 111,
   "metadata": {},
   "outputs": [
    {
     "data": {
      "text/plain": [
       "<matplotlib.axes._subplots.AxesSubplot at 0x7f6ef5e6ac90>"
      ]
     },
     "execution_count": 111,
     "metadata": {},
     "output_type": "execute_result"
    },
    {
     "data": {
      "image/png": "[encoded data removed]",
      "text/plain": [
       "<Figure size 432x288 with 1 Axes>"
      ]
     },
     "metadata": {
      "needs_background": "light"
     },
     "output_type": "display_data"
    }
   ],
   "source": [
    "gates_scores_ser.plot()"
   ]
  },
  {
   "cell_type": "code",
   "execution_count": 128,
   "metadata": {},
   "outputs": [
    {
     "data": {
      "text/plain": [
       "'^^^_2008-01-23T13:09:21Z 0 6335 Charlestrenet'"
      ]
     },
     "execution_count": 128,
     "metadata": {},
     "output_type": "execute_result"
    }
   ],
   "source": [
    "gates[9630]"
   ]
  },
  {
   "cell_type": "code",
   "execution_count": 129,
   "metadata": {},
   "outputs": [
    {
     "data": {
      "text/plain": [
       "'^^^_2008-01-25T17:41:41Z 0 6343 Superm401'"
      ]
     },
     "execution_count": 129,
     "metadata": {},
     "output_type": "execute_result"
    }
   ],
   "source": [
    "gates[9640]"
   ]
  },
  {
   "cell_type": "markdown",
   "metadata": {},
   "source": [
    "### Bot Exploration"
   ]
  },
  {
   "cell_type": "code",
   "execution_count": 50,
   "metadata": {},
   "outputs": [],
   "source": [
    "con1.close()"
   ]
  },
  {
   "cell_type": "code",
   "execution_count": 31,
   "metadata": {},
   "outputs": [],
   "source": [
    "con1 = sqlite3.connect('/teams/DSC180A_FA20_A00/b03onlinecommunities/personal-group01/en_wiki.db')"
   ]
  },
  {
   "cell_type": "code",
   "execution_count": 45,
   "metadata": {},
   "outputs": [],
   "source": [
    "e = con1.execute(\"select * from articles limit 500\")"
   ]
  },
  {
   "cell_type": "code",
   "execution_count": 49,
   "metadata": {},
   "outputs": [
    {
     "data": {
      "text/html": [
       "<div>\n",
       "<style scoped>\n",
       "    .dataframe tbody tr th:only-of-type {\n",
       "        vertical-align: middle;\n",
       "    }\n",
       "\n",
       "    .dataframe tbody tr th {\n",
       "        vertical-align: top;\n",
       "    }\n",
       "\n",
       "    .dataframe thead th {\n",
       "        text-align: right;\n",
       "    }\n",
       "</style>\n",
       "<table border=\"1\" class=\"dataframe\">\n",
       "  <thead>\n",
       "    <tr style=\"text-align: right;\">\n",
       "      <th></th>\n",
       "      <th>article_id</th>\n",
       "      <th>timestamp</th>\n",
       "      <th>revert</th>\n",
       "      <th>edit_id</th>\n",
       "      <th>username</th>\n",
       "    </tr>\n",
       "  </thead>\n",
       "  <tbody>\n",
       "    <tr>\n",
       "      <th>70</th>\n",
       "      <td>27</td>\n",
       "      <td>^^^_2010-02-02T07:34:57Z</td>\n",
       "      <td>1</td>\n",
       "      <td>1</td>\n",
       "      <td>Limenlemony</td>\n",
       "    </tr>\n",
       "    <tr>\n",
       "      <th>94</th>\n",
       "      <td>33</td>\n",
       "      <td>^^^_2010-02-02T07:16:28Z</td>\n",
       "      <td>1</td>\n",
       "      <td>1</td>\n",
       "      <td>Jorge_Stolfi</td>\n",
       "    </tr>\n",
       "    <tr>\n",
       "      <th>99</th>\n",
       "      <td>35</td>\n",
       "      <td>^^^_2010-02-02T07:16:52Z</td>\n",
       "      <td>1</td>\n",
       "      <td>1</td>\n",
       "      <td>Jorge_Stolfi</td>\n",
       "    </tr>\n",
       "    <tr>\n",
       "      <th>141</th>\n",
       "      <td>40</td>\n",
       "      <td>^^^_2006-03-16T22:34:52Z</td>\n",
       "      <td>1</td>\n",
       "      <td>14</td>\n",
       "      <td>AJR</td>\n",
       "    </tr>\n",
       "    <tr>\n",
       "      <th>144</th>\n",
       "      <td>40</td>\n",
       "      <td>^^^_2006-04-02T15:01:02Z</td>\n",
       "      <td>1</td>\n",
       "      <td>16</td>\n",
       "      <td>AJR</td>\n",
       "    </tr>\n",
       "    <tr>\n",
       "      <th>174</th>\n",
       "      <td>40</td>\n",
       "      <td>^^^_2007-03-02T00:54:47Z</td>\n",
       "      <td>1</td>\n",
       "      <td>45</td>\n",
       "      <td>AJR</td>\n",
       "    </tr>\n",
       "    <tr>\n",
       "      <th>191</th>\n",
       "      <td>40</td>\n",
       "      <td>^^^_2008-08-30T02:13:22Z</td>\n",
       "      <td>1</td>\n",
       "      <td>61</td>\n",
       "      <td>144.138.244.215</td>\n",
       "    </tr>\n",
       "    <tr>\n",
       "      <th>218</th>\n",
       "      <td>40</td>\n",
       "      <td>^^^_2010-02-02T06:58:47Z</td>\n",
       "      <td>1</td>\n",
       "      <td>87</td>\n",
       "      <td>Fastily</td>\n",
       "    </tr>\n",
       "    <tr>\n",
       "      <th>231</th>\n",
       "      <td>45</td>\n",
       "      <td>^^^_2010-02-02T06:44:02Z</td>\n",
       "      <td>1</td>\n",
       "      <td>1</td>\n",
       "      <td>Elionwyr</td>\n",
       "    </tr>\n",
       "    <tr>\n",
       "      <th>267</th>\n",
       "      <td>54</td>\n",
       "      <td>^^^_2010-02-02T06:47:59Z</td>\n",
       "      <td>1</td>\n",
       "      <td>2</td>\n",
       "      <td>Montelaba</td>\n",
       "    </tr>\n",
       "    <tr>\n",
       "      <th>349</th>\n",
       "      <td>72</td>\n",
       "      <td>^^^_2010-02-02T05:29:35Z</td>\n",
       "      <td>1</td>\n",
       "      <td>1</td>\n",
       "      <td>XLinkBot</td>\n",
       "    </tr>\n",
       "    <tr>\n",
       "      <th>394</th>\n",
       "      <td>80</td>\n",
       "      <td>^^^_2010-02-02T05:21:28Z</td>\n",
       "      <td>1</td>\n",
       "      <td>1</td>\n",
       "      <td>Neonblak</td>\n",
       "    </tr>\n",
       "    <tr>\n",
       "      <th>396</th>\n",
       "      <td>80</td>\n",
       "      <td>^^^_2010-02-02T05:46:54Z</td>\n",
       "      <td>1</td>\n",
       "      <td>1</td>\n",
       "      <td>Eastmain</td>\n",
       "    </tr>\n",
       "    <tr>\n",
       "      <th>425</th>\n",
       "      <td>85</td>\n",
       "      <td>^^^_2010-02-02T05:21:10Z</td>\n",
       "      <td>1</td>\n",
       "      <td>13</td>\n",
       "      <td>Damon.cluck</td>\n",
       "    </tr>\n",
       "    <tr>\n",
       "      <th>437</th>\n",
       "      <td>88</td>\n",
       "      <td>^^^_2010-02-02T05:03:55Z</td>\n",
       "      <td>1</td>\n",
       "      <td>2</td>\n",
       "      <td>Salavat</td>\n",
       "    </tr>\n",
       "    <tr>\n",
       "      <th>477</th>\n",
       "      <td>94</td>\n",
       "      <td>^^^_2010-02-02T04:53:54Z</td>\n",
       "      <td>1</td>\n",
       "      <td>4</td>\n",
       "      <td>P_Carn</td>\n",
       "    </tr>\n",
       "  </tbody>\n",
       "</table>\n",
       "</div>"
      ],
      "text/plain": [
       "    article_id                 timestamp revert edit_id         username\n",
       "70          27  ^^^_2010-02-02T07:34:57Z      1       1      Limenlemony\n",
       "94          33  ^^^_2010-02-02T07:16:28Z      1       1     Jorge_Stolfi\n",
       "99          35  ^^^_2010-02-02T07:16:52Z      1       1     Jorge_Stolfi\n",
       "141         40  ^^^_2006-03-16T22:34:52Z      1      14              AJR\n",
       "144         40  ^^^_2006-04-02T15:01:02Z      1      16              AJR\n",
       "174         40  ^^^_2007-03-02T00:54:47Z      1      45              AJR\n",
       "191         40  ^^^_2008-08-30T02:13:22Z      1      61  144.138.244.215\n",
       "218         40  ^^^_2010-02-02T06:58:47Z      1      87          Fastily\n",
       "231         45  ^^^_2010-02-02T06:44:02Z      1       1         Elionwyr\n",
       "267         54  ^^^_2010-02-02T06:47:59Z      1       2        Montelaba\n",
       "349         72  ^^^_2010-02-02T05:29:35Z      1       1         XLinkBot\n",
       "394         80  ^^^_2010-02-02T05:21:28Z      1       1         Neonblak\n",
       "396         80  ^^^_2010-02-02T05:46:54Z      1       1         Eastmain\n",
       "425         85  ^^^_2010-02-02T05:21:10Z      1      13      Damon.cluck\n",
       "437         88  ^^^_2010-02-02T05:03:55Z      1       2          Salavat\n",
       "477         94  ^^^_2010-02-02T04:53:54Z      1       4           P_Carn"
      ]
     },
     "execution_count": 49,
     "metadata": {},
     "output_type": "execute_result"
    }
   ],
   "source": [
    "test = pd.read_sql('select * from edits limit 500', con1)\n",
    "test[test.revert == '1']"
   ]
  },
  {
   "cell_type": "code",
   "execution_count": 2,
   "metadata": {},
   "outputs": [],
   "source": [
    "con = sqlite3.connect('/teams/DSC180A_FA20_A00/b03onlinecommunities/personal-group01/simple_wiki.db')"
   ]
  },
  {
   "cell_type": "code",
   "execution_count": 3,
   "metadata": {},
   "outputs": [],
   "source": [
    "articles = pd.read_sql('select * from articles', con=con)"
   ]
  },
  {
   "cell_type": "code",
   "execution_count": 4,
   "metadata": {},
   "outputs": [],
   "source": [
    "edits = pd.read_sql('select * from edits', con=con)"
   ]
  },
  {
   "cell_type": "code",
   "execution_count": 18,
   "metadata": {},
   "outputs": [
    {
     "data": {
      "text/html": [
       "<div>\n",
       "<style scoped>\n",
       "    .dataframe tbody tr th:only-of-type {\n",
       "        vertical-align: middle;\n",
       "    }\n",
       "\n",
       "    .dataframe tbody tr th {\n",
       "        vertical-align: top;\n",
       "    }\n",
       "\n",
       "    .dataframe thead th {\n",
       "        text-align: right;\n",
       "    }\n",
       "</style>\n",
       "<table border=\"1\" class=\"dataframe\">\n",
       "  <thead>\n",
       "    <tr style=\"text-align: right;\">\n",
       "      <th></th>\n",
       "      <th>article_id</th>\n",
       "      <th>timestamp</th>\n",
       "      <th>revert</th>\n",
       "      <th>edit_id</th>\n",
       "      <th>username</th>\n",
       "    </tr>\n",
       "  </thead>\n",
       "  <tbody>\n",
       "    <tr>\n",
       "      <th>0</th>\n",
       "      <td>0</td>\n",
       "      <td>^^^_2011-10-28T12:28:07Z</td>\n",
       "      <td>0</td>\n",
       "      <td>1</td>\n",
       "      <td>Rock_drum</td>\n",
       "    </tr>\n",
       "    <tr>\n",
       "      <th>1</th>\n",
       "      <td>0</td>\n",
       "      <td>^^^_2011-10-28T12:51:21Z</td>\n",
       "      <td>0</td>\n",
       "      <td>2</td>\n",
       "      <td>MystBot</td>\n",
       "    </tr>\n",
       "    <tr>\n",
       "      <th>2</th>\n",
       "      <td>1</td>\n",
       "      <td>^^^_2011-10-28T06:47:52Z</td>\n",
       "      <td>0</td>\n",
       "      <td>1</td>\n",
       "      <td>September_1988</td>\n",
       "    </tr>\n",
       "    <tr>\n",
       "      <th>3</th>\n",
       "      <td>1</td>\n",
       "      <td>^^^_2011-10-28T06:51:15Z</td>\n",
       "      <td>0</td>\n",
       "      <td>2</td>\n",
       "      <td>Luckas-bot</td>\n",
       "    </tr>\n",
       "    <tr>\n",
       "      <th>4</th>\n",
       "      <td>1</td>\n",
       "      <td>^^^_2011-10-28T08:29:46Z</td>\n",
       "      <td>0</td>\n",
       "      <td>3</td>\n",
       "      <td>DJDunsie</td>\n",
       "    </tr>\n",
       "    <tr>\n",
       "      <th>5</th>\n",
       "      <td>1</td>\n",
       "      <td>^^^_2011-10-28T08:30:30Z</td>\n",
       "      <td>0</td>\n",
       "      <td>4</td>\n",
       "      <td>DJDunsie</td>\n",
       "    </tr>\n",
       "    <tr>\n",
       "      <th>6</th>\n",
       "      <td>1</td>\n",
       "      <td>^^^_2011-10-28T08:31:56Z</td>\n",
       "      <td>0</td>\n",
       "      <td>5</td>\n",
       "      <td>DJDunsie</td>\n",
       "    </tr>\n",
       "    <tr>\n",
       "      <th>7</th>\n",
       "      <td>1</td>\n",
       "      <td>^^^_2011-10-28T08:32:21Z</td>\n",
       "      <td>0</td>\n",
       "      <td>6</td>\n",
       "      <td>DJDunsie</td>\n",
       "    </tr>\n",
       "    <tr>\n",
       "      <th>8</th>\n",
       "      <td>1</td>\n",
       "      <td>^^^_2011-10-28T08:32:39Z</td>\n",
       "      <td>0</td>\n",
       "      <td>7</td>\n",
       "      <td>DJDunsie</td>\n",
       "    </tr>\n",
       "    <tr>\n",
       "      <th>9</th>\n",
       "      <td>2</td>\n",
       "      <td>^^^_2011-10-28T02:42:23Z</td>\n",
       "      <td>0</td>\n",
       "      <td>1</td>\n",
       "      <td>PiRSquared17</td>\n",
       "    </tr>\n",
       "  </tbody>\n",
       "</table>\n",
       "</div>"
      ],
      "text/plain": [
       "  article_id                 timestamp revert edit_id        username\n",
       "0          0  ^^^_2011-10-28T12:28:07Z      0       1       Rock_drum\n",
       "1          0  ^^^_2011-10-28T12:51:21Z      0       2         MystBot\n",
       "2          1  ^^^_2011-10-28T06:47:52Z      0       1  September_1988\n",
       "3          1  ^^^_2011-10-28T06:51:15Z      0       2      Luckas-bot\n",
       "4          1  ^^^_2011-10-28T08:29:46Z      0       3        DJDunsie\n",
       "5          1  ^^^_2011-10-28T08:30:30Z      0       4        DJDunsie\n",
       "6          1  ^^^_2011-10-28T08:31:56Z      0       5        DJDunsie\n",
       "7          1  ^^^_2011-10-28T08:32:21Z      0       6        DJDunsie\n",
       "8          1  ^^^_2011-10-28T08:32:39Z      0       7        DJDunsie\n",
       "9          2  ^^^_2011-10-28T02:42:23Z      0       1    PiRSquared17"
      ]
     },
     "execution_count": 18,
     "metadata": {},
     "output_type": "execute_result"
    }
   ],
   "source": [
    "edits.head(10)"
   ]
  },
  {
   "cell_type": "code",
   "execution_count": 6,
   "metadata": {},
   "outputs": [],
   "source": [
    "bots = edits[edits.username.str.lower().str[-3:] == 'bot']"
   ]
  },
  {
   "cell_type": "code",
   "execution_count": 7,
   "metadata": {},
   "outputs": [
    {
     "data": {
      "text/plain": [
       "0.475635526028611"
      ]
     },
     "execution_count": 7,
     "metadata": {},
     "output_type": "execute_result"
    }
   ],
   "source": [
    "len(bots) / len(edits)"
   ]
  },
  {
   "cell_type": "code",
   "execution_count": 8,
   "metadata": {},
   "outputs": [
    {
     "data": {
      "text/plain": [
       "0.016056307857730885"
      ]
     },
     "execution_count": 8,
     "metadata": {},
     "output_type": "execute_result"
    }
   ],
   "source": [
    "bots.revert.astype(int).mean()"
   ]
  },
  {
   "cell_type": "code",
   "execution_count": 19,
   "metadata": {},
   "outputs": [],
   "source": [
    "botcounts = bots.groupby('article_id')['username'].count().reset_index()\n",
    "editcounts = edits.groupby('article_id')['username'].count().reset_index()"
   ]
  },
  {
   "cell_type": "code",
   "execution_count": 20,
   "metadata": {},
   "outputs": [
    {
     "data": {
      "text/html": [
       "<div>\n",
       "<style scoped>\n",
       "    .dataframe tbody tr th:only-of-type {\n",
       "        vertical-align: middle;\n",
       "    }\n",
       "\n",
       "    .dataframe tbody tr th {\n",
       "        vertical-align: top;\n",
       "    }\n",
       "\n",
       "    .dataframe thead th {\n",
       "        text-align: right;\n",
       "    }\n",
       "</style>\n",
       "<table border=\"1\" class=\"dataframe\">\n",
       "  <thead>\n",
       "    <tr style=\"text-align: right;\">\n",
       "      <th></th>\n",
       "      <th>article_id</th>\n",
       "      <th>username</th>\n",
       "    </tr>\n",
       "  </thead>\n",
       "  <tbody>\n",
       "    <tr>\n",
       "      <th>0</th>\n",
       "      <td>0</td>\n",
       "      <td>1</td>\n",
       "    </tr>\n",
       "    <tr>\n",
       "      <th>1</th>\n",
       "      <td>1</td>\n",
       "      <td>1</td>\n",
       "    </tr>\n",
       "    <tr>\n",
       "      <th>2</th>\n",
       "      <td>100</td>\n",
       "      <td>1</td>\n",
       "    </tr>\n",
       "    <tr>\n",
       "      <th>3</th>\n",
       "      <td>1000</td>\n",
       "      <td>3</td>\n",
       "    </tr>\n",
       "    <tr>\n",
       "      <th>4</th>\n",
       "      <td>10000</td>\n",
       "      <td>2</td>\n",
       "    </tr>\n",
       "    <tr>\n",
       "      <th>...</th>\n",
       "      <td>...</td>\n",
       "      <td>...</td>\n",
       "    </tr>\n",
       "    <tr>\n",
       "      <th>70068</th>\n",
       "      <td>9994</td>\n",
       "      <td>7</td>\n",
       "    </tr>\n",
       "    <tr>\n",
       "      <th>70069</th>\n",
       "      <td>9995</td>\n",
       "      <td>8</td>\n",
       "    </tr>\n",
       "    <tr>\n",
       "      <th>70070</th>\n",
       "      <td>9996</td>\n",
       "      <td>1</td>\n",
       "    </tr>\n",
       "    <tr>\n",
       "      <th>70071</th>\n",
       "      <td>9997</td>\n",
       "      <td>1</td>\n",
       "    </tr>\n",
       "    <tr>\n",
       "      <th>70072</th>\n",
       "      <td>9999</td>\n",
       "      <td>2</td>\n",
       "    </tr>\n",
       "  </tbody>\n",
       "</table>\n",
       "<p>70073 rows × 2 columns</p>\n",
       "</div>"
      ],
      "text/plain": [
       "      article_id  username\n",
       "0              0         1\n",
       "1              1         1\n",
       "2            100         1\n",
       "3           1000         3\n",
       "4          10000         2\n",
       "...          ...       ...\n",
       "70068       9994         7\n",
       "70069       9995         8\n",
       "70070       9996         1\n",
       "70071       9997         1\n",
       "70072       9999         2\n",
       "\n",
       "[70073 rows x 2 columns]"
      ]
     },
     "execution_count": 20,
     "metadata": {},
     "output_type": "execute_result"
    }
   ],
   "source": [
    "botcounts"
   ]
  },
  {
   "cell_type": "code",
   "execution_count": 24,
   "metadata": {},
   "outputs": [
    {
     "data": {
      "text/plain": [
       "<matplotlib.axes._subplots.AxesSubplot at 0x7f0fe6395950>"
      ]
     },
     "execution_count": 24,
     "metadata": {},
     "output_type": "execute_result"
    },
    {
     "data": {
      "image/png": "[encoded data removed]",
      "text/plain": [
       "<Figure size 432x288 with 1 Axes>"
      ]
     },
     "metadata": {
      "needs_background": "light"
     },
     "output_type": "display_data"
    }
   ],
   "source": [
    "botcounts.merge(editcounts, on='article_id').plot.scatter(x='username_y', y='username_x')"
   ]
  },
  {
   "cell_type": "code",
   "execution_count": 14,
   "metadata": {},
   "outputs": [
    {
     "data": {
      "text/plain": [
       "article_id        17437\n",
       "article_name    Germany\n",
       "num_edits           836\n",
       "m                    35\n",
       "Name: 17437, dtype: object"
      ]
     },
     "execution_count": 14,
     "metadata": {},
     "output_type": "execute_result"
    }
   ],
   "source": [
    "articles.iloc[17437]"
   ]
  },
  {
   "cell_type": "code",
   "execution_count": 11,
   "metadata": {},
   "outputs": [
    {
     "data": {
      "text/html": [
       "<div>\n",
       "<style scoped>\n",
       "    .dataframe tbody tr th:only-of-type {\n",
       "        vertical-align: middle;\n",
       "    }\n",
       "\n",
       "    .dataframe tbody tr th {\n",
       "        vertical-align: top;\n",
       "    }\n",
       "\n",
       "    .dataframe thead th {\n",
       "        text-align: right;\n",
       "    }\n",
       "</style>\n",
       "<table border=\"1\" class=\"dataframe\">\n",
       "  <thead>\n",
       "    <tr style=\"text-align: right;\">\n",
       "      <th></th>\n",
       "      <th>article_id</th>\n",
       "      <th>timestamp</th>\n",
       "      <th>revert</th>\n",
       "      <th>edit_id</th>\n",
       "      <th>username</th>\n",
       "    </tr>\n",
       "  </thead>\n",
       "  <tbody>\n",
       "    <tr>\n",
       "      <th>191255</th>\n",
       "      <td>17495</td>\n",
       "      <td>^^^_2003-10-21T02:08:57Z</td>\n",
       "      <td>0</td>\n",
       "      <td>1</td>\n",
       "      <td>RJ208153.user.veloxzone.com.br</td>\n",
       "    </tr>\n",
       "    <tr>\n",
       "      <th>191256</th>\n",
       "      <td>17495</td>\n",
       "      <td>^^^_2003-10-21T02:12:53Z</td>\n",
       "      <td>0</td>\n",
       "      <td>2</td>\n",
       "      <td>RJ208153.user.veloxzone.com.br</td>\n",
       "    </tr>\n",
       "    <tr>\n",
       "      <th>191257</th>\n",
       "      <td>17495</td>\n",
       "      <td>^^^_2003-10-21T02:13:21Z</td>\n",
       "      <td>0</td>\n",
       "      <td>3</td>\n",
       "      <td>RJ208153.user.veloxzone.com.br</td>\n",
       "    </tr>\n",
       "    <tr>\n",
       "      <th>191258</th>\n",
       "      <td>17495</td>\n",
       "      <td>^^^_2003-11-20T00:01:41Z</td>\n",
       "      <td>0</td>\n",
       "      <td>4</td>\n",
       "      <td>ip68-110-241-221.dc.dc.cox.net</td>\n",
       "    </tr>\n",
       "    <tr>\n",
       "      <th>191259</th>\n",
       "      <td>17495</td>\n",
       "      <td>^^^_2003-11-26T18:57:44Z</td>\n",
       "      <td>0</td>\n",
       "      <td>5</td>\n",
       "      <td>bgp535296bgs.ebrnsw01.nj.comcast.net</td>\n",
       "    </tr>\n",
       "  </tbody>\n",
       "</table>\n",
       "</div>"
      ],
      "text/plain": [
       "       article_id                 timestamp revert edit_id  \\\n",
       "191255      17495  ^^^_2003-10-21T02:08:57Z      0       1   \n",
       "191256      17495  ^^^_2003-10-21T02:12:53Z      0       2   \n",
       "191257      17495  ^^^_2003-10-21T02:13:21Z      0       3   \n",
       "191258      17495  ^^^_2003-11-20T00:01:41Z      0       4   \n",
       "191259      17495  ^^^_2003-11-26T18:57:44Z      0       5   \n",
       "\n",
       "                                    username  \n",
       "191255        RJ208153.user.veloxzone.com.br  \n",
       "191256        RJ208153.user.veloxzone.com.br  \n",
       "191257        RJ208153.user.veloxzone.com.br  \n",
       "191258        ip68-110-241-221.dc.dc.cox.net  \n",
       "191259  bgp535296bgs.ebrnsw01.nj.comcast.net  "
      ]
     },
     "execution_count": 11,
     "metadata": {},
     "output_type": "execute_result"
    }
   ],
   "source": [
    "us = edits[edits.article_id == '17495']\n",
    "us.head()"
   ]
  },
  {
   "cell_type": "code",
   "execution_count": null,
   "metadata": {},
   "outputs": [],
   "source": [
    "us_bots = us[us.username.str.lower().str[-3:] == 'bot']\n",
    "us_bots"
   ]
  },
  {
   "cell_type": "code",
   "execution_count": 28,
   "metadata": {},
   "outputs": [
    {
     "data": {
      "text/html": [
       "<div>\n",
       "<style scoped>\n",
       "    .dataframe tbody tr th:only-of-type {\n",
       "        vertical-align: middle;\n",
       "    }\n",
       "\n",
       "    .dataframe tbody tr th {\n",
       "        vertical-align: top;\n",
       "    }\n",
       "\n",
       "    .dataframe thead th {\n",
       "        text-align: right;\n",
       "    }\n",
       "</style>\n",
       "<table border=\"1\" class=\"dataframe\">\n",
       "  <thead>\n",
       "    <tr style=\"text-align: right;\">\n",
       "      <th></th>\n",
       "      <th>article_id</th>\n",
       "      <th>timestamp</th>\n",
       "      <th>revert</th>\n",
       "      <th>edit_id</th>\n",
       "      <th>username</th>\n",
       "    </tr>\n",
       "  </thead>\n",
       "  <tbody>\n",
       "    <tr>\n",
       "      <th>191290</th>\n",
       "      <td>17495</td>\n",
       "      <td>^^^_2004-04-16T02:07:14Z</td>\n",
       "      <td>1</td>\n",
       "      <td>34</td>\n",
       "      <td>SimonMayer</td>\n",
       "    </tr>\n",
       "    <tr>\n",
       "      <th>191295</th>\n",
       "      <td>17495</td>\n",
       "      <td>^^^_2004-05-18T22:40:32Z</td>\n",
       "      <td>1</td>\n",
       "      <td>38</td>\n",
       "      <td>Angela</td>\n",
       "    </tr>\n",
       "    <tr>\n",
       "      <th>191318</th>\n",
       "      <td>17495</td>\n",
       "      <td>^^^_2004-11-06T03:04:25Z</td>\n",
       "      <td>1</td>\n",
       "      <td>60</td>\n",
       "      <td>62.165.128.200</td>\n",
       "    </tr>\n",
       "    <tr>\n",
       "      <th>191335</th>\n",
       "      <td>17495</td>\n",
       "      <td>^^^_2005-02-06T08:04:31Z</td>\n",
       "      <td>1</td>\n",
       "      <td>76</td>\n",
       "      <td>Netoholic</td>\n",
       "    </tr>\n",
       "    <tr>\n",
       "      <th>191367</th>\n",
       "      <td>17495</td>\n",
       "      <td>^^^_2005-05-28T19:25:53Z</td>\n",
       "      <td>1</td>\n",
       "      <td>105</td>\n",
       "      <td>Bluemask</td>\n",
       "    </tr>\n",
       "  </tbody>\n",
       "</table>\n",
       "</div>"
      ],
      "text/plain": [
       "       article_id                 timestamp revert edit_id        username\n",
       "191290      17495  ^^^_2004-04-16T02:07:14Z      1      34      SimonMayer\n",
       "191295      17495  ^^^_2004-05-18T22:40:32Z      1      38          Angela\n",
       "191318      17495  ^^^_2004-11-06T03:04:25Z      1      60  62.165.128.200\n",
       "191335      17495  ^^^_2005-02-06T08:04:31Z      1      76       Netoholic\n",
       "191367      17495  ^^^_2005-05-28T19:25:53Z      1     105        Bluemask"
      ]
     },
     "execution_count": 28,
     "metadata": {},
     "output_type": "execute_result"
    }
   ],
   "source": [
    "us_reverts = us[us.revert == '1']\n",
    "us_reverts.head()"
   ]
  },
  {
   "cell_type": "code",
   "execution_count": 30,
   "metadata": {},
   "outputs": [
    {
     "data": {
      "text/plain": [
       "0.030690537084398978"
      ]
     },
     "execution_count": 30,
     "metadata": {},
     "output_type": "execute_result"
    }
   ],
   "source": [
    "(us_reverts.username.str.lower().str[-3:] == 'bot').mean()"
   ]
  },
  {
   "cell_type": "code",
   "execution_count": null,
   "metadata": {},
   "outputs": [],
   "source": [
    "us_bots.revert.astype(int).mean()"
   ]
  },
  {
   "cell_type": "code",
   "execution_count": 81,
   "metadata": {},
   "outputs": [],
   "source": [
    "edits['revert'] = edits['revert'].astype(int)\n",
    "user_counts = edits.groupby('username').agg({'timestamp': 'count', 'revert': 'mean'}).reset_index()"
   ]
  },
  {
   "cell_type": "code",
   "execution_count": 82,
   "metadata": {},
   "outputs": [],
   "source": [
    "bot_counts = user_counts[user_counts.username.str.lower().str[-3:] == 'bot']\n",
    "human_counts = user_counts[~(user_counts.username.str.lower().str[-3:] == 'bot')]"
   ]
  },
  {
   "cell_type": "code",
   "execution_count": 83,
   "metadata": {},
   "outputs": [
    {
     "data": {
      "text/html": [
       "<div>\n",
       "<style scoped>\n",
       "    .dataframe tbody tr th:only-of-type {\n",
       "        vertical-align: middle;\n",
       "    }\n",
       "\n",
       "    .dataframe tbody tr th {\n",
       "        vertical-align: top;\n",
       "    }\n",
       "\n",
       "    .dataframe thead th {\n",
       "        text-align: right;\n",
       "    }\n",
       "</style>\n",
       "<table border=\"1\" class=\"dataframe\">\n",
       "  <thead>\n",
       "    <tr style=\"text-align: right;\">\n",
       "      <th></th>\n",
       "      <th>username</th>\n",
       "      <th>timestamp</th>\n",
       "      <th>revert</th>\n",
       "    </tr>\n",
       "  </thead>\n",
       "  <tbody>\n",
       "    <tr>\n",
       "      <th>26</th>\n",
       "      <td>.anacondabot</td>\n",
       "      <td>2</td>\n",
       "      <td>0.000000</td>\n",
       "    </tr>\n",
       "    <tr>\n",
       "      <th>76699</th>\n",
       "      <td>718_Bot</td>\n",
       "      <td>11</td>\n",
       "      <td>0.000000</td>\n",
       "    </tr>\n",
       "    <tr>\n",
       "      <th>121926</th>\n",
       "      <td>A4bot</td>\n",
       "      <td>3</td>\n",
       "      <td>0.000000</td>\n",
       "    </tr>\n",
       "    <tr>\n",
       "      <th>121955</th>\n",
       "      <td>AEBot</td>\n",
       "      <td>1</td>\n",
       "      <td>0.000000</td>\n",
       "    </tr>\n",
       "    <tr>\n",
       "      <th>121964</th>\n",
       "      <td>AHbot</td>\n",
       "      <td>25</td>\n",
       "      <td>0.000000</td>\n",
       "    </tr>\n",
       "    <tr>\n",
       "      <th>...</th>\n",
       "      <td>...</td>\n",
       "      <td>...</td>\n",
       "      <td>...</td>\n",
       "    </tr>\n",
       "    <tr>\n",
       "      <th>146648</th>\n",
       "      <td>Zxabot</td>\n",
       "      <td>219</td>\n",
       "      <td>0.000000</td>\n",
       "    </tr>\n",
       "    <tr>\n",
       "      <th>146654</th>\n",
       "      <td>Zyxwvut-Bot</td>\n",
       "      <td>2</td>\n",
       "      <td>0.000000</td>\n",
       "    </tr>\n",
       "    <tr>\n",
       "      <th>146662</th>\n",
       "      <td>ZéroBot</td>\n",
       "      <td>9892</td>\n",
       "      <td>0.002224</td>\n",
       "    </tr>\n",
       "    <tr>\n",
       "      <th>146884</th>\n",
       "      <td>Δbot</td>\n",
       "      <td>1</td>\n",
       "      <td>1.000000</td>\n",
       "    </tr>\n",
       "    <tr>\n",
       "      <th>147013</th>\n",
       "      <td>タチコマ_robot</td>\n",
       "      <td>945</td>\n",
       "      <td>0.014815</td>\n",
       "    </tr>\n",
       "  </tbody>\n",
       "</table>\n",
       "<p>337 rows × 3 columns</p>\n",
       "</div>"
      ],
      "text/plain": [
       "            username  timestamp    revert\n",
       "26      .anacondabot          2  0.000000\n",
       "76699        718_Bot         11  0.000000\n",
       "121926         A4bot          3  0.000000\n",
       "121955         AEBot          1  0.000000\n",
       "121964         AHbot         25  0.000000\n",
       "...              ...        ...       ...\n",
       "146648        Zxabot        219  0.000000\n",
       "146654   Zyxwvut-Bot          2  0.000000\n",
       "146662       ZéroBot       9892  0.002224\n",
       "146884          Δbot          1  1.000000\n",
       "147013    タチコマ_robot        945  0.014815\n",
       "\n",
       "[337 rows x 3 columns]"
      ]
     },
     "execution_count": 83,
     "metadata": {},
     "output_type": "execute_result"
    }
   ],
   "source": [
    "bot_counts"
   ]
  },
  {
   "cell_type": "code",
   "execution_count": 84,
   "metadata": {},
   "outputs": [
    {
     "data": {
      "text/html": [
       "<div>\n",
       "<style scoped>\n",
       "    .dataframe tbody tr th:only-of-type {\n",
       "        vertical-align: middle;\n",
       "    }\n",
       "\n",
       "    .dataframe tbody tr th {\n",
       "        vertical-align: top;\n",
       "    }\n",
       "\n",
       "    .dataframe thead th {\n",
       "        text-align: right;\n",
       "    }\n",
       "</style>\n",
       "<table border=\"1\" class=\"dataframe\">\n",
       "  <thead>\n",
       "    <tr style=\"text-align: right;\">\n",
       "      <th></th>\n",
       "      <th>username</th>\n",
       "      <th>timestamp</th>\n",
       "      <th>revert</th>\n",
       "    </tr>\n",
       "  </thead>\n",
       "  <tbody>\n",
       "    <tr>\n",
       "      <th>0</th>\n",
       "      <td>\"Fingers\"_Mc_Gee</td>\n",
       "      <td>4</td>\n",
       "      <td>0.000000</td>\n",
       "    </tr>\n",
       "    <tr>\n",
       "      <th>1</th>\n",
       "      <td>\"In_Avos'_we_trust\"</td>\n",
       "      <td>1</td>\n",
       "      <td>0.000000</td>\n",
       "    </tr>\n",
       "    <tr>\n",
       "      <th>2</th>\n",
       "      <td>&amp;action=edit</td>\n",
       "      <td>13</td>\n",
       "      <td>0.076923</td>\n",
       "    </tr>\n",
       "    <tr>\n",
       "      <th>3</th>\n",
       "      <td>&amp;£$%;?@!!!</td>\n",
       "      <td>1</td>\n",
       "      <td>1.000000</td>\n",
       "    </tr>\n",
       "    <tr>\n",
       "      <th>4</th>\n",
       "      <td>(aeropagitica)</td>\n",
       "      <td>2</td>\n",
       "      <td>0.000000</td>\n",
       "    </tr>\n",
       "    <tr>\n",
       "      <th>...</th>\n",
       "      <td>...</td>\n",
       "      <td>...</td>\n",
       "      <td>...</td>\n",
       "    </tr>\n",
       "    <tr>\n",
       "      <th>147070</th>\n",
       "      <td>치묘</td>\n",
       "      <td>5</td>\n",
       "      <td>0.000000</td>\n",
       "    </tr>\n",
       "    <tr>\n",
       "      <th>147071</th>\n",
       "      <td>쿠도군</td>\n",
       "      <td>2</td>\n",
       "      <td>0.000000</td>\n",
       "    </tr>\n",
       "    <tr>\n",
       "      <th>147072</th>\n",
       "      <td>트리플루</td>\n",
       "      <td>2</td>\n",
       "      <td>0.000000</td>\n",
       "    </tr>\n",
       "    <tr>\n",
       "      <th>147073</th>\n",
       "      <td>현철환</td>\n",
       "      <td>58</td>\n",
       "      <td>0.000000</td>\n",
       "    </tr>\n",
       "    <tr>\n",
       "      <th>147074</th>\n",
       "      <td>ﺉﯓﯝﮩﮦﯽ</td>\n",
       "      <td>10</td>\n",
       "      <td>0.000000</td>\n",
       "    </tr>\n",
       "  </tbody>\n",
       "</table>\n",
       "<p>146738 rows × 3 columns</p>\n",
       "</div>"
      ],
      "text/plain": [
       "                   username  timestamp    revert\n",
       "0          \"Fingers\"_Mc_Gee          4  0.000000\n",
       "1       \"In_Avos'_we_trust\"          1  0.000000\n",
       "2              &action=edit         13  0.076923\n",
       "3                &£$%;?@!!!          1  1.000000\n",
       "4            (aeropagitica)          2  0.000000\n",
       "...                     ...        ...       ...\n",
       "147070                   치묘          5  0.000000\n",
       "147071                  쿠도군          2  0.000000\n",
       "147072                 트리플루          2  0.000000\n",
       "147073                  현철환         58  0.000000\n",
       "147074               ﺉﯓﯝﮩﮦﯽ         10  0.000000\n",
       "\n",
       "[146738 rows x 3 columns]"
      ]
     },
     "execution_count": 84,
     "metadata": {},
     "output_type": "execute_result"
    }
   ],
   "source": [
    "human_counts"
   ]
  },
  {
   "cell_type": "code",
   "execution_count": 75,
   "metadata": {},
   "outputs": [
    {
     "data": {
      "text/plain": [
       "count      337.000000\n",
       "mean      2825.922849\n",
       "std       9769.486337\n",
       "min          1.000000\n",
       "25%          2.000000\n",
       "50%         25.000000\n",
       "75%       1078.000000\n",
       "max      84973.000000\n",
       "Name: timestamp, dtype: float64"
      ]
     },
     "execution_count": 75,
     "metadata": {},
     "output_type": "execute_result"
    }
   ],
   "source": [
    "bot_counts.timestamp.describe()"
   ]
  },
  {
   "cell_type": "code",
   "execution_count": 78,
   "metadata": {},
   "outputs": [
    {
     "data": {
      "text/plain": [
       "count    146738.000000\n",
       "mean          7.154950\n",
       "std         180.379792\n",
       "min           1.000000\n",
       "25%           1.000000\n",
       "50%           1.000000\n",
       "75%           2.000000\n",
       "max       29646.000000\n",
       "Name: timestamp, dtype: float64"
      ]
     },
     "execution_count": 78,
     "metadata": {},
     "output_type": "execute_result"
    }
   ],
   "source": [
    "human_counts.timestamp.describe()"
   ]
  },
  {
   "cell_type": "code",
   "execution_count": 86,
   "metadata": {},
   "outputs": [
    {
     "data": {
      "text/plain": [
       "count    337.000000\n",
       "mean       0.058761\n",
       "std        0.198359\n",
       "min        0.000000\n",
       "25%        0.000000\n",
       "50%        0.000000\n",
       "75%        0.016181\n",
       "max        1.000000\n",
       "Name: revert, dtype: float64"
      ]
     },
     "execution_count": 86,
     "metadata": {},
     "output_type": "execute_result"
    }
   ],
   "source": [
    "bot_counts.revert.describe()"
   ]
  },
  {
   "cell_type": "code",
   "execution_count": 88,
   "metadata": {},
   "outputs": [
    {
     "data": {
      "text/plain": [
       "count    146738.000000\n",
       "mean          0.037930\n",
       "std           0.159086\n",
       "min           0.000000\n",
       "25%           0.000000\n",
       "50%           0.000000\n",
       "75%           0.000000\n",
       "max           1.000000\n",
       "Name: revert, dtype: float64"
      ]
     },
     "execution_count": 88,
     "metadata": {},
     "output_type": "execute_result"
    }
   ],
   "source": [
    "human_counts.revert.describe()"
   ]
  },
  {
   "cell_type": "code",
   "execution_count": 63,
   "metadata": {},
   "outputs": [
    {
     "data": {
      "text/plain": [
       "<matplotlib.axes._subplots.AxesSubplot at 0x7f0ff29d2f90>"
      ]
     },
     "execution_count": 63,
     "metadata": {},
     "output_type": "execute_result"
    },
    {
     "data": {
      "image/png": "[encoded data removed]",
      "text/plain": [
       "<Figure size 432x288 with 1 Axes>"
      ]
     },
     "metadata": {
      "needs_background": "light"
     },
     "output_type": "display_data"
    }
   ],
   "source": [
    "bot_counts.timestamp.plot.hist()"
   ]
  },
  {
   "cell_type": "code",
   "execution_count": 64,
   "metadata": {},
   "outputs": [
    {
     "data": {
      "text/plain": [
       "<matplotlib.axes._subplots.AxesSubplot at 0x7f0ff9ba5e90>"
      ]
     },
     "execution_count": 64,
     "metadata": {},
     "output_type": "execute_result"
    },
    {
     "data": {
      "image/png": "[encoded data removed]",
      "text/plain": [
       "<Figure size 432x288 with 1 Axes>"
      ]
     },
     "metadata": {
      "needs_background": "light"
     },
     "output_type": "display_data"
    }
   ],
   "source": [
    "human_counts.timestamp.plot.hist()"
   ]
  },
  {
   "cell_type": "code",
   "execution_count": 89,
   "metadata": {},
   "outputs": [
    {
     "data": {
      "text/plain": [
       "0.5341246290801187"
      ]
     },
     "execution_count": 89,
     "metadata": {},
     "output_type": "execute_result"
    }
   ],
   "source": [
    "(bot_counts.timestamp < 50).mean()"
   ]
  },
  {
   "cell_type": "code",
   "execution_count": 72,
   "metadata": {},
   "outputs": [
    {
     "data": {
      "text/plain": [
       "0.9917540105494146"
      ]
     },
     "execution_count": 72,
     "metadata": {},
     "output_type": "execute_result"
    }
   ],
   "source": [
    "(human_counts.timestamp < 50).mean()"
   ]
  },
  {
   "cell_type": "code",
   "execution_count": 79,
   "metadata": {},
   "outputs": [
    {
     "data": {
      "text/plain": [
       "0.00229134795172531"
      ]
     },
     "execution_count": 79,
     "metadata": {},
     "output_type": "execute_result"
    }
   ],
   "source": [
    "len(bot_counts) / (len(bot_counts) + len(human_counts))"
   ]
  },
  {
   "cell_type": "code",
   "execution_count": null,
   "metadata": {},
   "outputs": [],
   "source": []
  }
 ],
 "metadata": {
  "kernelspec": {
   "display_name": "Python 3",
   "language": "python",
   "name": "python3"
  },
  "language_info": {
   "codemirror_mode": {
    "name": "ipython",
    "version": 3
   },
   "file_extension": ".py",
   "mimetype": "text/x-python",
   "name": "python",
   "nbconvert_exporter": "python",
   "pygments_lexer": "ipython3",
   "version": "3.7.6"
  }
 },
 "nbformat": 4,
 "nbformat_minor": 4
}
