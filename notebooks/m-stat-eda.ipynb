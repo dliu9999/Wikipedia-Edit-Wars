{
 "cells": [
  {
   "cell_type": "markdown",
   "metadata": {},
   "source": [
    "# Wikipedia Lightdump EDA\n",
    "\n",
    "*Exploratory data analysis of Wikipedia edit data (lightdump format) to explore conflict and controversiality through proxy of edit wars.*\n",
    "\n",
    "By Darren Liu and Casey Duong"
   ]
  },
  {
   "cell_type": "code",
   "execution_count": 1,
   "metadata": {},
   "outputs": [
    {
     "data": {
      "text/html": [
       "<script>\n",
       "code_show=true; \n",
       "function code_toggle() {\n",
       " if (code_show){\n",
       " $('div.input').hide();\n",
       " } else {\n",
       " $('div.input').show();\n",
       " }\n",
       " code_show = !code_show\n",
       "} \n",
       "$( document ).ready(code_toggle);\n",
       "</script>\n",
       "<form action=\"javascript:code_toggle()\"><input type=\"submit\" value=\"Click here to toggle on/off the raw code.\"></form>"
      ],
      "text/plain": [
       "<IPython.core.display.HTML object>"
      ]
     },
     "execution_count": 1,
     "metadata": {},
     "output_type": "execute_result"
    }
   ],
   "source": [
    "from IPython.display import HTML\n",
    "\n",
    "HTML('''<script>\n",
    "code_show=true; \n",
    "function code_toggle() {\n",
    " if (code_show){\n",
    " $('div.input').hide();\n",
    " } else {\n",
    " $('div.input').show();\n",
    " }\n",
    " code_show = !code_show\n",
    "} \n",
    "$( document ).ready(code_toggle);\n",
    "</script>\n",
    "<form action=\"javascript:code_toggle()\"><input type=\"submit\" value=\"Click here to toggle on/off the raw code.\"></form>''')"
   ]
  },
  {
   "cell_type": "markdown",
   "metadata": {},
   "source": [
    "## Set Up\n",
    "Importing necessary libraries and setting up databases and tables for EDA. "
   ]
  },
  {
   "cell_type": "code",
   "execution_count": 1,
   "metadata": {},
   "outputs": [],
   "source": [
    "#import necessary libraries\n",
    "import sys\n",
    "import json\n",
    "import seaborn as sns\n",
    "import numpy as np\n",
    "\n",
    "#add paths to access custom library features\n",
    "sys.path.insert(0, '../src/features')\n",
    "\n",
    "#import custom library features\n",
    "from build_features import *\n",
    "\n",
    "#read the config file\n",
    "with open('../config/eda-params.json') as f:\n",
    "    eda_config = json.load(f)\n",
    "    \n",
    "outdir = eda_config['outdir']\n",
    "db_fp = eda_config['db_infp']\n",
    "\n",
    "#read in database as DataFrame\n",
    "articles_df = query_articles(db_fp)\n",
    "\n",
    "#change type to int so we can aggregate\n",
    "articles_df['num_edits'] = articles_df['num_edits'].astype(int)\n",
    "articles_df['m'] = articles_df['m'].astype(int)"
   ]
  },
  {
   "cell_type": "markdown",
   "metadata": {},
   "source": [
    "## Base Descriptive Statistics"
   ]
  },
  {
   "cell_type": "markdown",
   "metadata": {},
   "source": [
    "First, let's take a look at the count of articles on English Wikipedia and the distribution of number of edits."
   ]
  },
  {
   "cell_type": "code",
   "execution_count": 2,
   "metadata": {},
   "outputs": [
    {
     "name": "stdout",
     "output_type": "stream",
     "text": [
      "There are 4644531 on English Wikipedia\n"
     ]
    }
   ],
   "source": [
    "print(\"There are\", str(len(articles_df)), \"on English Wikipedia\")"
   ]
  },
  {
   "cell_type": "code",
   "execution_count": 3,
   "metadata": {},
   "outputs": [
    {
     "data": {
      "text/plain": [
       "count    4.644531e+06\n",
       "mean     4.733238e+01\n",
       "std      2.174465e+02\n",
       "min      0.000000e+00\n",
       "25%      3.000000e+00\n",
       "50%      1.100000e+01\n",
       "75%      3.100000e+01\n",
       "max      4.365000e+04\n",
       "Name: num_edits, dtype: float64"
      ]
     },
     "execution_count": 3,
     "metadata": {},
     "output_type": "execute_result"
    }
   ],
   "source": [
    "#descriptive stats for num edits\n",
    "articles_df['num_edits'].describe()"
   ]
  },
  {
   "cell_type": "markdown",
   "metadata": {},
   "source": [
    "Histogram of distribution of edits for 25% of data"
   ]
  },
  {
   "cell_type": "code",
   "execution_count": 9,
   "metadata": {},
   "outputs": [
    {
     "data": {
      "text/plain": [
       "<matplotlib.axes._subplots.AxesSubplot at 0x7fd407d54bd0>"
      ]
     },
     "execution_count": 9,
     "metadata": {},
     "output_type": "execute_result"
    },
    {
     "data": {
      "image/png": "[encoded data removed]",
      "text/plain": [
       "<Figure size 432x288 with 1 Axes>"
      ]
     },
     "metadata": {
      "needs_background": "light"
     },
     "output_type": "display_data"
    }
   ],
   "source": [
    "#histogram of distribution of edits for 25% of data\n",
    "articles_df.loc[articles_df['num_edits'] > 31]['num_edits'].hist(bins = 100)"
   ]
  },
  {
   "cell_type": "markdown",
   "metadata": {},
   "source": [
    "Now, let's take a look at the distributions of the M-statistics (and number of edits) for all English Wikipedia pages. We found that the minimum, 25th, 50th, and 75th percentile were all zero."
   ]
  },
  {
   "cell_type": "code",
   "execution_count": 10,
   "metadata": {},
   "outputs": [
    {
     "data": {
      "text/plain": [
       "count    4.644531e+06\n",
       "mean     3.376670e+01\n",
       "std      5.331740e+03\n",
       "min      0.000000e+00\n",
       "25%      0.000000e+00\n",
       "50%      0.000000e+00\n",
       "75%      0.000000e+00\n",
       "max      8.302744e+06\n",
       "Name: m, dtype: float64"
      ]
     },
     "execution_count": 10,
     "metadata": {},
     "output_type": "execute_result"
    }
   ],
   "source": [
    "articles_df['m'].describe()"
   ]
  },
  {
   "cell_type": "markdown",
   "metadata": {},
   "source": [
    "When we exclude values of zero, the above percentiles shift to 2, 4, 8, and 36, still significantly lower than our maximum of about 8.3 million."
   ]
  },
  {
   "cell_type": "code",
   "execution_count": 11,
   "metadata": {},
   "outputs": [
    {
     "data": {
      "text/plain": [
       "count    2.159580e+05\n",
       "mean     7.262083e+02\n",
       "std      2.471596e+04\n",
       "min      2.000000e+00\n",
       "25%      4.000000e+00\n",
       "50%      8.000000e+00\n",
       "75%      3.600000e+01\n",
       "max      8.302744e+06\n",
       "Name: m, dtype: float64"
      ]
     },
     "execution_count": 11,
     "metadata": {},
     "output_type": "execute_result"
    }
   ],
   "source": [
    "articles_df.loc[articles_df['m'] > 0]['m'].describe()"
   ]
  },
  {
   "cell_type": "markdown",
   "metadata": {},
   "source": [
    "Out of the 4.64 million articles in English Wikipedia, roughly 4.43 million pages had an M-stat of zero. This shows that most of Wikipedia actually consists of non-frequented stubs. In contrast, approximately 216,000 pages had both an M-stat greater than zero and more than zero edits. We can see that the majority of traffic and contributions is based around 4.65% of pages, if not less since we included pages with little edits as long as they were greater than zero."
   ]
  },
  {
   "cell_type": "code",
   "execution_count": 12,
   "metadata": {},
   "outputs": [
    {
     "name": "stdout",
     "output_type": "stream",
     "text": [
      "Total English Wikipedia pages: 4644531\n",
      "\n",
      "\n",
      "Pages with M-stat of 0: 4428573\n",
      "Pages with M-stat of 0 and edit count > 0: 4428494\n",
      "\n",
      "\n",
      "Pages with M-stat and edit count > 0: 215958\n",
      "Proportion of pages with M-stat and edit count > 0: 0.04649726743130792\n"
     ]
    }
   ],
   "source": [
    "total_pages = len(articles_df)\n",
    "m_zero = articles_df.loc[articles_df['m'] == 0]\n",
    "non_zero_m_edits = len(articles_df.loc[(articles_df['m'] > 0) &\\\n",
    "                          (articles_df['num_edits'] > 0)])\n",
    "\n",
    "print(\"Total English Wikipedia pages:\", total_pages)\n",
    "print(\"\\n\")\n",
    "\n",
    "print(\"Pages with M-stat of 0:\", len(m_zero))\n",
    "print(\"Pages with M-stat of 0 and edit count > 0:\",\n",
    "     len(m_zero.loc[m_zero['num_edits'] > 0]))\n",
    "print(\"\\n\")\n",
    "\n",
    "print(\"Pages with M-stat and edit count > 0:\", non_zero_m_edits)\n",
    "print(\"Proportion of pages with M-stat and edit count > 0:\",\n",
    "      non_zero_m_edits/total_pages)"
   ]
  },
  {
   "cell_type": "markdown",
   "metadata": {},
   "source": [
    "To plot the M-stat distribution, we took the log of the M-stat, for all pages with an M-stat greater than zero, to make the output graph more consumable. The histogram shows us that the distribution of log M-stat is unimodal with a long tail on the right (high M-stats)."
   ]
  },
  {
   "cell_type": "code",
   "execution_count": 14,
   "metadata": {},
   "outputs": [
    {
     "data": {
      "image/png": "[encoded data removed]",
      "text/plain": [
       "<Figure size 432x288 with 1 Axes>"
      ]
     },
     "metadata": {
      "needs_background": "light"
     },
     "output_type": "display_data"
    }
   ],
   "source": [
    "log_m = np.log(articles_df[articles_df['m'] > 0]['m'])\n",
    "\n",
    "hs = sns.distplot(log_m)\n",
    "hs.set_title('Histogram of Number of Edits/M-statistic Ratio Distribution',\n",
    "             fontsize=12);"
   ]
  },
  {
   "cell_type": "code",
   "execution_count": 15,
   "metadata": {},
   "outputs": [
    {
     "data": {
      "image/png": "[encoded data removed]",
      "text/plain": [
       "<Figure size 432x288 with 1 Axes>"
      ]
     },
     "metadata": {
      "needs_background": "light"
     },
     "output_type": "display_data"
    }
   ],
   "source": [
    "vp = sns.violinplot(log_m)\n",
    "vp.set_title('Distribution of (log) M-statistic', fontsize=12);"
   ]
  },
  {
   "cell_type": "markdown",
   "metadata": {},
   "source": [
    "Let's take a look at the relationship between number of edits and M-statistic. Since there's about 4.43 million articles, this would take a long time to plot (especially since they're just plotting for M-stat = 0), so we'll only look at pages with an M-stat of greater than 0.\n",
    "\n",
    "In a scatter plot comparing M-stat and number of edits per article, we see that the distribution of both M-stats and edit counts is primarily clustered towards the lower end of the spectrum, with several higher scoring pages and one extremely high scoring page."
   ]
  },
  {
   "cell_type": "code",
   "execution_count": 16,
   "metadata": {},
   "outputs": [],
   "source": [
    "nonzero = articles_df.loc[articles_df['m'] > 0]"
   ]
  },
  {
   "cell_type": "code",
   "execution_count": 17,
   "metadata": {},
   "outputs": [
    {
     "data": {
      "image/png": "[encoded data removed]",
      "text/plain": [
       "<Figure size 432x288 with 1 Axes>"
      ]
     },
     "metadata": {
      "needs_background": "light"
     },
     "output_type": "display_data"
    }
   ],
   "source": [
    "sc = sns.regplot(data = nonzero, x = 'num_edits', y = 'm')\n",
    "sc.set_title('Number of Edits v. M-statistic');"
   ]
  },
  {
   "cell_type": "markdown",
   "metadata": {},
   "source": [
    "## Top 100 M-statistic Articles\n",
    "\n",
    "The “George W Bush” Wikipedia page boasts the highest M-stat at 8,302,744 and the highest edit count at 43,650. This is significantly larger than the second most controversial page, “List of World Wrestling Entertainment employees”, referred to as “List of WWE employees” henceforth, which has an M-stat of 3,301,500 and 30,572 edits. In addition, the “List of WWE employees” contains information about hundreds of individuals connected to World Wrestling Entertainment while “George W Bush” only includes the history of a single person, though at a greater depth than “List of WWE employees”."
   ]
  },
  {
   "cell_type": "code",
   "execution_count": 19,
   "metadata": {},
   "outputs": [],
   "source": [
    "top_100_edited = articles_df.sort_values('num_edits', ascending = False).head(100)\n",
    "\n",
    "top_100_m = articles_df.sort_values('m', ascending = False).head(100)\n",
    "\n",
    "top_100_zero = articles_df.sort_values(['m', 'num_edits'], ascending = [True, False]).head(100)"
   ]
  },
  {
   "cell_type": "markdown",
   "metadata": {},
   "source": [
    "We cross referenced the top 100 M-stat pages versus the top 100 most edited pages. There were 40 pages in both top 100 lists. We then identify 3,933 as the lowest M-stat of the highest 100 M-stats in the entirety of English Wikipedia, which has a 75th percentile of 36, less than one-tenth of the 100th highest M-statistic. Again, this affirms the slight scale of edit warring compared to the large scale of Wikipedia."
   ]
  },
  {
   "cell_type": "markdown",
   "metadata": {},
   "source": [
    "Controversial (high m-score) pages in the top 100 edited pages"
   ]
  },
  {
   "cell_type": "code",
   "execution_count": 22,
   "metadata": {},
   "outputs": [
    {
     "data": {
      "text/html": [
       "<div>\n",
       "<style scoped>\n",
       "    .dataframe tbody tr th:only-of-type {\n",
       "        vertical-align: middle;\n",
       "    }\n",
       "\n",
       "    .dataframe tbody tr th {\n",
       "        vertical-align: top;\n",
       "    }\n",
       "\n",
       "    .dataframe thead th {\n",
       "        text-align: right;\n",
       "    }\n",
       "</style>\n",
       "<table border=\"1\" class=\"dataframe\">\n",
       "  <thead>\n",
       "    <tr style=\"text-align: right;\">\n",
       "      <th></th>\n",
       "      <th>num_edits</th>\n",
       "      <th>m</th>\n",
       "    </tr>\n",
       "  </thead>\n",
       "  <tbody>\n",
       "    <tr>\n",
       "      <th>count</th>\n",
       "      <td>40.000000</td>\n",
       "      <td>4.000000e+01</td>\n",
       "    </tr>\n",
       "    <tr>\n",
       "      <th>mean</th>\n",
       "      <td>17532.050000</td>\n",
       "      <td>9.867287e+05</td>\n",
       "    </tr>\n",
       "    <tr>\n",
       "      <th>std</th>\n",
       "      <td>6223.834217</td>\n",
       "      <td>1.403996e+06</td>\n",
       "    </tr>\n",
       "    <tr>\n",
       "      <th>min</th>\n",
       "      <td>11836.000000</td>\n",
       "      <td>1.921500e+05</td>\n",
       "    </tr>\n",
       "    <tr>\n",
       "      <th>25%</th>\n",
       "      <td>13925.500000</td>\n",
       "      <td>3.419465e+05</td>\n",
       "    </tr>\n",
       "    <tr>\n",
       "      <th>50%</th>\n",
       "      <td>15423.000000</td>\n",
       "      <td>4.930595e+05</td>\n",
       "    </tr>\n",
       "    <tr>\n",
       "      <th>75%</th>\n",
       "      <td>19211.500000</td>\n",
       "      <td>1.184450e+06</td>\n",
       "    </tr>\n",
       "    <tr>\n",
       "      <th>max</th>\n",
       "      <td>43650.000000</td>\n",
       "      <td>8.302744e+06</td>\n",
       "    </tr>\n",
       "  </tbody>\n",
       "</table>\n",
       "</div>"
      ],
      "text/plain": [
       "          num_edits             m\n",
       "count     40.000000  4.000000e+01\n",
       "mean   17532.050000  9.867287e+05\n",
       "std     6223.834217  1.403996e+06\n",
       "min    11836.000000  1.921500e+05\n",
       "25%    13925.500000  3.419465e+05\n",
       "50%    15423.000000  4.930595e+05\n",
       "75%    19211.500000  1.184450e+06\n",
       "max    43650.000000  8.302744e+06"
      ]
     },
     "execution_count": 22,
     "metadata": {},
     "output_type": "execute_result"
    }
   ],
   "source": [
    "top_100_m.loc[top_100_m['article_name'].isin(top_100_edited['article_name'].tolist())].describe()"
   ]
  },
  {
   "cell_type": "markdown",
   "metadata": {},
   "source": [
    "Controversial (high m-score) pages not in the top 100 edited pages"
   ]
  },
  {
   "cell_type": "code",
   "execution_count": 23,
   "metadata": {},
   "outputs": [
    {
     "data": {
      "text/html": [
       "<div>\n",
       "<style scoped>\n",
       "    .dataframe tbody tr th:only-of-type {\n",
       "        vertical-align: middle;\n",
       "    }\n",
       "\n",
       "    .dataframe tbody tr th {\n",
       "        vertical-align: top;\n",
       "    }\n",
       "\n",
       "    .dataframe thead th {\n",
       "        text-align: right;\n",
       "    }\n",
       "</style>\n",
       "<table border=\"1\" class=\"dataframe\">\n",
       "  <thead>\n",
       "    <tr style=\"text-align: right;\">\n",
       "      <th></th>\n",
       "      <th>num_edits</th>\n",
       "      <th>m</th>\n",
       "    </tr>\n",
       "  </thead>\n",
       "  <tbody>\n",
       "    <tr>\n",
       "      <th>count</th>\n",
       "      <td>60.000000</td>\n",
       "      <td>6.000000e+01</td>\n",
       "    </tr>\n",
       "    <tr>\n",
       "      <th>mean</th>\n",
       "      <td>7773.033333</td>\n",
       "      <td>3.952223e+05</td>\n",
       "    </tr>\n",
       "    <tr>\n",
       "      <th>std</th>\n",
       "      <td>2115.525346</td>\n",
       "      <td>2.009411e+05</td>\n",
       "    </tr>\n",
       "    <tr>\n",
       "      <th>min</th>\n",
       "      <td>3933.000000</td>\n",
       "      <td>1.929330e+05</td>\n",
       "    </tr>\n",
       "    <tr>\n",
       "      <th>25%</th>\n",
       "      <td>6359.000000</td>\n",
       "      <td>2.432865e+05</td>\n",
       "    </tr>\n",
       "    <tr>\n",
       "      <th>50%</th>\n",
       "      <td>7802.000000</td>\n",
       "      <td>3.421480e+05</td>\n",
       "    </tr>\n",
       "    <tr>\n",
       "      <th>75%</th>\n",
       "      <td>9414.500000</td>\n",
       "      <td>4.931520e+05</td>\n",
       "    </tr>\n",
       "    <tr>\n",
       "      <th>max</th>\n",
       "      <td>11479.000000</td>\n",
       "      <td>1.104600e+06</td>\n",
       "    </tr>\n",
       "  </tbody>\n",
       "</table>\n",
       "</div>"
      ],
      "text/plain": [
       "          num_edits             m\n",
       "count     60.000000  6.000000e+01\n",
       "mean    7773.033333  3.952223e+05\n",
       "std     2115.525346  2.009411e+05\n",
       "min     3933.000000  1.929330e+05\n",
       "25%     6359.000000  2.432865e+05\n",
       "50%     7802.000000  3.421480e+05\n",
       "75%     9414.500000  4.931520e+05\n",
       "max    11479.000000  1.104600e+06"
      ]
     },
     "execution_count": 23,
     "metadata": {},
     "output_type": "execute_result"
    }
   ],
   "source": [
    "top_100_m.loc[~top_100_m['article_name'].isin(top_100_edited['article_name'].tolist())].describe()"
   ]
  },
  {
   "cell_type": "markdown",
   "metadata": {},
   "source": [
    "We see a recurring trend of topics among the pages with the 10 highest M-statistics: political figures and themes, religion, and celebrities. These pages all have an M-stat of at least 1 million and at least 15,000 edits per page. We can also see that higher edit count does not necessarily imply higher M-stat, as is the case with “Michael Jackson” versus “Muhammad”, where the less edited page (Muhammad) actually has a higher M-stat. "
   ]
  },
  {
   "cell_type": "code",
   "execution_count": 24,
   "metadata": {},
   "outputs": [
    {
     "data": {
      "text/html": [
       "<div>\n",
       "<style scoped>\n",
       "    .dataframe tbody tr th:only-of-type {\n",
       "        vertical-align: middle;\n",
       "    }\n",
       "\n",
       "    .dataframe tbody tr th {\n",
       "        vertical-align: top;\n",
       "    }\n",
       "\n",
       "    .dataframe thead th {\n",
       "        text-align: right;\n",
       "    }\n",
       "</style>\n",
       "<table border=\"1\" class=\"dataframe\">\n",
       "  <thead>\n",
       "    <tr style=\"text-align: right;\">\n",
       "      <th></th>\n",
       "      <th>article_id</th>\n",
       "      <th>article_name</th>\n",
       "      <th>num_edits</th>\n",
       "      <th>m</th>\n",
       "    </tr>\n",
       "  </thead>\n",
       "  <tbody>\n",
       "    <tr>\n",
       "      <th>3414502</th>\n",
       "      <td>3414502</td>\n",
       "      <td>George_W._Bush</td>\n",
       "      <td>43650</td>\n",
       "      <td>8302744</td>\n",
       "    </tr>\n",
       "    <tr>\n",
       "      <th>3713374</th>\n",
       "      <td>3713374</td>\n",
       "      <td>List_of_World_Wrestling_Entertainment_employees</td>\n",
       "      <td>30572</td>\n",
       "      <td>3301500</td>\n",
       "    </tr>\n",
       "    <tr>\n",
       "      <th>3046640</th>\n",
       "      <td>3046640</td>\n",
       "      <td>Wikipedia</td>\n",
       "      <td>29726</td>\n",
       "      <td>509838</td>\n",
       "    </tr>\n",
       "    <tr>\n",
       "      <th>3409788</th>\n",
       "      <td>3409788</td>\n",
       "      <td>United_States</td>\n",
       "      <td>27433</td>\n",
       "      <td>1764520</td>\n",
       "    </tr>\n",
       "    <tr>\n",
       "      <th>1462060</th>\n",
       "      <td>1462060</td>\n",
       "      <td>Michael_Jackson</td>\n",
       "      <td>23243</td>\n",
       "      <td>1268295</td>\n",
       "    </tr>\n",
       "    <tr>\n",
       "      <th>4128673</th>\n",
       "      <td>4128673</td>\n",
       "      <td>Jesus</td>\n",
       "      <td>21768</td>\n",
       "      <td>2016080</td>\n",
       "    </tr>\n",
       "    <tr>\n",
       "      <th>657296</th>\n",
       "      <td>657296</td>\n",
       "      <td>Deaths_in_2009</td>\n",
       "      <td>20814</td>\n",
       "      <td>189390</td>\n",
       "    </tr>\n",
       "    <tr>\n",
       "      <th>4400411</th>\n",
       "      <td>4400411</td>\n",
       "      <td>Wii</td>\n",
       "      <td>20225</td>\n",
       "      <td>424999</td>\n",
       "    </tr>\n",
       "    <tr>\n",
       "      <th>3595633</th>\n",
       "      <td>3595633</td>\n",
       "      <td>Adolf_Hitler</td>\n",
       "      <td>20093</td>\n",
       "      <td>1184326</td>\n",
       "    </tr>\n",
       "    <tr>\n",
       "      <th>4642517</th>\n",
       "      <td>4642517</td>\n",
       "      <td>Britney_Spears</td>\n",
       "      <td>19833</td>\n",
       "      <td>300125</td>\n",
       "    </tr>\n",
       "  </tbody>\n",
       "</table>\n",
       "</div>"
      ],
      "text/plain": [
       "        article_id                                     article_name  \\\n",
       "3414502    3414502                                   George_W._Bush   \n",
       "3713374    3713374  List_of_World_Wrestling_Entertainment_employees   \n",
       "3046640    3046640                                        Wikipedia   \n",
       "3409788    3409788                                    United_States   \n",
       "1462060    1462060                                  Michael_Jackson   \n",
       "4128673    4128673                                            Jesus   \n",
       "657296      657296                                   Deaths_in_2009   \n",
       "4400411    4400411                                              Wii   \n",
       "3595633    3595633                                     Adolf_Hitler   \n",
       "4642517    4642517                                   Britney_Spears   \n",
       "\n",
       "         num_edits        m  \n",
       "3414502      43650  8302744  \n",
       "3713374      30572  3301500  \n",
       "3046640      29726   509838  \n",
       "3409788      27433  1764520  \n",
       "1462060      23243  1268295  \n",
       "4128673      21768  2016080  \n",
       "657296       20814   189390  \n",
       "4400411      20225   424999  \n",
       "3595633      20093  1184326  \n",
       "4642517      19833   300125  "
      ]
     },
     "execution_count": 24,
     "metadata": {},
     "output_type": "execute_result"
    }
   ],
   "source": [
    "top_20_edited.head(10)"
   ]
  },
  {
   "cell_type": "markdown",
   "metadata": {},
   "source": [
    "To further explore this, we examined the ratio of the log of the M-stat to the number of edits per article. This gave us a similar distribution to the original logarithmic M-statistic distribution, but smoothed out the distribution and reducing the tail, indicating that there are articles with high edit counts compared to their low(er) M-statistic."
   ]
  },
  {
   "cell_type": "code",
   "execution_count": 25,
   "metadata": {},
   "outputs": [
    {
     "data": {
      "image/png": "[encoded data removed]",
      "text/plain": [
       "<Figure size 432x288 with 1 Axes>"
      ]
     },
     "metadata": {
      "needs_background": "light"
     },
     "output_type": "display_data"
    }
   ],
   "source": [
    "hs = sns.distplot(log_m/nonzero['num_edits'], axlabel = \"number of edits/M-stat\")\n",
    "hs.set_title('Histogram of Number of Edits/M-statistic Ratio Distribution',\n",
    "             fontsize=12);"
   ]
  },
  {
   "cell_type": "code",
   "execution_count": 26,
   "metadata": {},
   "outputs": [
    {
     "data": {
      "image/png": "[encoded data removed]",
      "text/plain": [
       "<Figure size 432x288 with 1 Axes>"
      ]
     },
     "metadata": {
      "needs_background": "light"
     },
     "output_type": "display_data"
    }
   ],
   "source": [
    "vp = sns.violinplot(log_m/nonzero['num_edits'])\n",
    "vp.set_title('Distribution of Number of Edits/M-statistic Ratio',\n",
    "             fontsize=12);"
   ]
  }
 ],
 "metadata": {
  "kernelspec": {
   "display_name": "Python 3",
   "language": "python",
   "name": "python3"
  },
  "language_info": {
   "codemirror_mode": {
    "name": "ipython",
    "version": 3
   },
   "file_extension": ".py",
   "mimetype": "text/x-python",
   "name": "python",
   "nbconvert_exporter": "python",
   "pygments_lexer": "ipython3",
   "version": "3.7.4"
  }
 },
 "nbformat": 4,
 "nbformat_minor": 4
}
